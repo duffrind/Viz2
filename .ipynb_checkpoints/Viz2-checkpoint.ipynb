{
 "cells": [
  {
   "cell_type": "markdown",
   "metadata": {},
   "source": [
    "David Duffrin\n",
    "02/12/2016"
   ]
  },
  {
   "cell_type": "code",
   "execution_count": 2,
   "metadata": {
    "collapsed": true
   },
   "outputs": [],
   "source": [
    "#import csv\n",
    "import matplotlib\n",
    "import pandas as pd\n",
    "#from pandas import Series, DataFrame, Panel\n",
    "import numpy as np"
   ]
  },
  {
   "cell_type": "code",
   "execution_count": null,
   "metadata": {
    "collapsed": false
   },
   "outputs": [],
   "source": [
    "# All CSV data are from: http://finance.yahoo.com/market-overview/\n",
    "apple = pd.read_csv('Data/APPLE.csv')\n",
    "applediv = pd.read_csv('Data/APPLEdiv.csv')\n",
    "apple['Date'] = pd.to_datetime(apple['Date'])\n",
    "applediv['Date'] = pd.to_datetime(applediv['Date'])\n",
    "boa = pd.read_csv('Data/BoA.csv')\n",
    "boadiv = pd.read_csv('Data/BoAdiv.csv')\n",
    "boa['Date'] = pd.to_datetime(boa['Date'])\n",
    "boadiv['Date'] = pd.to_datetime(boadiv['Date'])\n",
    "ge = pd.read_csv('Data/GE.csv')\n",
    "gediv = pd.read_csv('Data/GEdiv.csv')\n",
    "ge['Date'] = pd.to_datetime(ge['Date'])\n",
    "gediv['Date'] = pd.to_datetime(gediv['Date'])\n",
    "exxon = pd.read_csv('Data/EXXON.csv')\n",
    "exxondiv = pd.read_csv('Data/EXXONdiv.csv')\n",
    "exxon['Date'] = pd.to_datetime(exxon['Date'])\n",
    "exxondiv['Date'] = pd.to_datetime(exxondiv['Date'])\n",
    "walmart = pd.read_csv('Data/WALMART.csv')\n",
    "walmartdiv = pd.read_csv('Data/WALMARTdiv.csv')\n",
    "walmart['Date'] = pd.to_datetime(walmart['Date'])\n",
    "walmartdiv['Date'] = pd.to_datetime(walmartdiv['Date'])\n"
   ]
  },
  {
   "cell_type": "code",
   "execution_count": null,
   "metadata": {
    "collapsed": true
   },
   "outputs": [],
   "source": [
    "# annual return on investmest (absolute and relative to market)\n",
    "# associated risk\n",
    "#  ~(absolute and relative to market) [ie historical volatility]\n"
   ]
  }
 ],
 "metadata": {
  "kernelspec": {
   "display_name": "Python 3",
   "language": "python",
   "name": "python3"
  },
  "language_info": {
   "codemirror_mode": {
    "name": "ipython",
    "version": 3
   },
   "file_extension": ".py",
   "mimetype": "text/x-python",
   "name": "python",
   "nbconvert_exporter": "python",
   "pygments_lexer": "ipython3",
   "version": "3.5.1"
  }
 },
 "nbformat": 4,
 "nbformat_minor": 0
}
